{
 "cells": [
  {
   "cell_type": "markdown",
   "metadata": {},
   "source": [
    "## DataFrames\n",
    "\n",
    "A DataFrame is a collection of data organized in rows and named columns. DataFrames are built on top of RDD. The Spark DataFrame is easy to understand and more optimized for complicated operations than RDD."
   ]
  },
  {
   "cell_type": "code",
   "execution_count": 1,
   "metadata": {},
   "outputs": [],
   "source": [
    "from pyspark import SparkContext\n",
    "\n",
    "# create a spark context\n",
    "sc = SparkContext(\"local\", \"DataFrames\")"
   ]
  },
  {
   "cell_type": "code",
   "execution_count": 2,
   "metadata": {},
   "outputs": [
    {
     "name": "stdout",
     "output_type": "stream",
     "text": [
      "<pyspark.sql.session.SparkSession object at 0x000001D0E7F14B88>\n"
     ]
    }
   ],
   "source": [
    "from pyspark.sql import SparkSession\n",
    "\n",
    "# create a spark session\n",
    "spark_session = SparkSession.builder.getOrCreate()\n",
    "\n",
    "print(spark_session)"
   ]
  },
  {
   "cell_type": "markdown",
   "metadata": {},
   "source": [
    "### How can I read a DataFrame?\n",
    "\n",
    "It is possible to read files using ```.read ``` that returns a **DataFrameReader**"
   ]
  },
  {
   "cell_type": "code",
   "execution_count": 3,
   "metadata": {},
   "outputs": [
    {
     "data": {
      "text/plain": [
       "[Table(name='person_info', database=None, description=None, tableType='TEMPORARY', isTemporary=True)]"
      ]
     },
     "execution_count": 3,
     "metadata": {},
     "output_type": "execute_result"
    }
   ],
   "source": [
    "df = spark_session.read.csv(\"sample_data/301-people-info.csv\", header=True)\n",
    "\n",
    "# register in the catalog\n",
    "df.createOrReplaceTempView(\"person_info\")\n",
    "\n",
    "# list tables in catalog\n",
    "spark_session.catalog.listTables()"
   ]
  },
  {
   "cell_type": "markdown",
   "metadata": {},
   "source": [
    "There are more ways to read files\n",
    "\n",
    "    - df1 = spark.read.json(\"301-people-info.json\")\n",
    "    - df3 = spark.read.load(\"301-people-info.parquet\")\n",
    "    - df4 = spark.read.text(\"301-people-info.txt\")"
   ]
  },
  {
   "cell_type": "markdown",
   "metadata": {},
   "source": [
    "### Creating a DataFrame from a RDD"
   ]
  },
  {
   "cell_type": "markdown",
   "metadata": {},
   "source": [
    "```rdd.toDF(*cols)``` - returns a DataFrame named by *cols"
   ]
  },
  {
   "cell_type": "code",
   "execution_count": 4,
   "metadata": {},
   "outputs": [
    {
     "data": {
      "text/plain": [
       "[('James', 'Sales', 3000),\n",
       " ('Michael', 'Sales', 4600),\n",
       " ('Robert', 'Sales', 4100),\n",
       " ('Maria', 'Finance', 3000)]"
      ]
     },
     "execution_count": 4,
     "metadata": {},
     "output_type": "execute_result"
    }
   ],
   "source": [
    "rdd = sc.parallelize(((\"James\", \"Sales\", 3000),\n",
    "  (\"Michael\", \"Sales\", 4600),\n",
    "  (\"Robert\", \"Sales\", 4100),\n",
    "  (\"Maria\", \"Finance\", 3000),\n",
    "))\n",
    "rdd.collect()"
   ]
  },
  {
   "cell_type": "code",
   "execution_count": 5,
   "metadata": {},
   "outputs": [
    {
     "name": "stdout",
     "output_type": "stream",
     "text": [
      "+-------+-------+------+\n",
      "|   name| office|salary|\n",
      "+-------+-------+------+\n",
      "|  James|  Sales|  3000|\n",
      "|Michael|  Sales|  4600|\n",
      "| Robert|  Sales|  4100|\n",
      "|  Maria|Finance|  3000|\n",
      "+-------+-------+------+\n",
      "\n"
     ]
    }
   ],
   "source": [
    "df_from_rdd = rdd.toDF([\"name\", \"office\", \"salary\"])\n",
    "df_from_rdd.show()"
   ]
  },
  {
   "cell_type": "markdown",
   "metadata": {},
   "source": [
    "### Content analysis\n",
    "\n",
    "```df.dtypes``` return a list of data type from each column"
   ]
  },
  {
   "cell_type": "code",
   "execution_count": 6,
   "metadata": {},
   "outputs": [
    {
     "data": {
      "text/plain": [
       "[('name', 'string'),\n",
       " ('surname', 'string'),\n",
       " ('street', 'string'),\n",
       " ('city', 'string'),\n",
       " ('state', 'string'),\n",
       " ('postalcode', 'string'),\n",
       " ('salary', 'string')]"
      ]
     },
     "execution_count": 6,
     "metadata": {},
     "output_type": "execute_result"
    }
   ],
   "source": [
    "df.dtypes"
   ]
  },
  {
   "cell_type": "markdown",
   "metadata": {},
   "source": [
    "```df.show(n)``` return the first n rows in a tabular mode"
   ]
  },
  {
   "cell_type": "code",
   "execution_count": 7,
   "metadata": {},
   "outputs": [
    {
     "name": "stdout",
     "output_type": "stream",
     "text": [
      "+-----------+--------+--------------------+---------+-----+----------+------+\n",
      "|       name| surname|              street|     city|state|postalcode|salary|\n",
      "+-----------+--------+--------------------+---------+-----+----------+------+\n",
      "|       John|     Doe|   120 jefferson st.|Riverside|   NJ|     08075| 10000|\n",
      "|       Jack|McGinnis|        220 hobo Av.|    Phila|   PA|     09119| 18900|\n",
      "|John Da Man|  Repici|   120 Jefferson St.|Riverside|   NJ|     08075| 32100|\n",
      "|    Stephen|   Tyler|7452 Terrace At t...| SomeTown|   SD|     91234| 32908|\n",
      "|       null|Blankman|                null| SomeTown|   SD|     00298| 44221|\n",
      "+-----------+--------+--------------------+---------+-----+----------+------+\n",
      "only showing top 5 rows\n",
      "\n"
     ]
    }
   ],
   "source": [
    "df.show(5)"
   ]
  },
  {
   "cell_type": "markdown",
   "metadata": {},
   "source": [
    "```df.head(n)``` Returns a Row list from the first n rows."
   ]
  },
  {
   "cell_type": "code",
   "execution_count": 8,
   "metadata": {},
   "outputs": [
    {
     "data": {
      "text/plain": [
       "[Row(name='John', surname='Doe', street='120 jefferson st.', city='Riverside', state='NJ', postalcode='08075', salary='10000'),\n",
       " Row(name='Jack', surname='McGinnis', street='220 hobo Av.', city='Phila', state='PA', postalcode='09119', salary='18900')]"
      ]
     },
     "execution_count": 8,
     "metadata": {},
     "output_type": "execute_result"
    }
   ],
   "source": [
    "df.head(2)"
   ]
  },
  {
   "cell_type": "markdown",
   "metadata": {},
   "source": [
    "```df.first()``` return the first row as **Row**"
   ]
  },
  {
   "cell_type": "code",
   "execution_count": 9,
   "metadata": {},
   "outputs": [
    {
     "data": {
      "text/plain": [
       "Row(name='John', surname='Doe', street='120 jefferson st.', city='Riverside', state='NJ', postalcode='08075', salary='10000')"
      ]
     },
     "execution_count": 9,
     "metadata": {},
     "output_type": "execute_result"
    }
   ],
   "source": [
    "df.first()"
   ]
  },
  {
   "cell_type": "markdown",
   "metadata": {},
   "source": [
    "```df.take(n)``` Returns a Row list from the first n rows."
   ]
  },
  {
   "cell_type": "code",
   "execution_count": 10,
   "metadata": {},
   "outputs": [
    {
     "data": {
      "text/plain": [
       "[Row(name='John', surname='Doe', street='120 jefferson st.', city='Riverside', state='NJ', postalcode='08075', salary='10000'),\n",
       " Row(name='Jack', surname='McGinnis', street='220 hobo Av.', city='Phila', state='PA', postalcode='09119', salary='18900'),\n",
       " Row(name='John Da Man', surname='Repici', street='120 Jefferson St.', city='Riverside', state='NJ', postalcode='08075', salary='32100')]"
      ]
     },
     "execution_count": 10,
     "metadata": {},
     "output_type": "execute_result"
    }
   ],
   "source": [
    "df.take(3)"
   ]
  },
  {
   "cell_type": "markdown",
   "metadata": {},
   "source": [
    "```df.schema``` return the DataFrame's schema"
   ]
  },
  {
   "cell_type": "code",
   "execution_count": 11,
   "metadata": {},
   "outputs": [
    {
     "data": {
      "text/plain": [
       "StructType(List(StructField(name,StringType,true),StructField(surname,StringType,true),StructField(street,StringType,true),StructField(city,StringType,true),StructField(state,StringType,true),StructField(postalcode,StringType,true),StructField(salary,StringType,true)))"
      ]
     },
     "execution_count": 11,
     "metadata": {},
     "output_type": "execute_result"
    }
   ],
   "source": [
    "df.schema"
   ]
  },
  {
   "cell_type": "markdown",
   "metadata": {},
   "source": [
    "```df.describe(*cols)``` calculate statistics of numeric and strings columns"
   ]
  },
  {
   "cell_type": "code",
   "execution_count": 12,
   "metadata": {},
   "outputs": [
    {
     "name": "stdout",
     "output_type": "stream",
     "text": [
      "+-------+-------+------------------+\n",
      "|summary|   name|            salary|\n",
      "+-------+-------+------------------+\n",
      "|  count|      6|                 7|\n",
      "|   mean|   null|24418.428571428572|\n",
      "| stddev|   null| 12265.50534163653|\n",
      "|    min|   Jack|             10000|\n",
      "|    max|Stephen|             44221|\n",
      "+-------+-------+------------------+\n",
      "\n"
     ]
    }
   ],
   "source": [
    "df.describe('name', 'salary').show()"
   ]
  },
  {
   "cell_type": "markdown",
   "metadata": {},
   "source": [
    "```df.columns``` show the list column's name"
   ]
  },
  {
   "cell_type": "code",
   "execution_count": 13,
   "metadata": {},
   "outputs": [
    {
     "data": {
      "text/plain": [
       "['name', 'surname', 'street', 'city', 'state', 'postalcode', 'salary']"
      ]
     },
     "execution_count": 13,
     "metadata": {},
     "output_type": "execute_result"
    }
   ],
   "source": [
    "df.columns"
   ]
  },
  {
   "cell_type": "markdown",
   "metadata": {},
   "source": [
    "```df.count()``` count recorded rows"
   ]
  },
  {
   "cell_type": "code",
   "execution_count": 14,
   "metadata": {},
   "outputs": [
    {
     "data": {
      "text/plain": [
       "7"
      ]
     },
     "execution_count": 14,
     "metadata": {},
     "output_type": "execute_result"
    }
   ],
   "source": [
    "df.count()"
   ]
  },
  {
   "cell_type": "markdown",
   "metadata": {},
   "source": [
    "```df.printSchema()``` print the schema in a tree format"
   ]
  },
  {
   "cell_type": "code",
   "execution_count": 15,
   "metadata": {},
   "outputs": [
    {
     "name": "stdout",
     "output_type": "stream",
     "text": [
      "root\n",
      " |-- name: string (nullable = true)\n",
      " |-- surname: string (nullable = true)\n",
      " |-- street: string (nullable = true)\n",
      " |-- city: string (nullable = true)\n",
      " |-- state: string (nullable = true)\n",
      " |-- postalcode: string (nullable = true)\n",
      " |-- salary: string (nullable = true)\n",
      "\n"
     ]
    }
   ],
   "source": [
    "df.printSchema()"
   ]
  },
  {
   "cell_type": "markdown",
   "metadata": {},
   "source": [
    "### Removing duplicated values"
   ]
  },
  {
   "cell_type": "markdown",
   "metadata": {},
   "source": [
    "```df.distinct()``` return a new DataFrame comparing all columns"
   ]
  },
  {
   "cell_type": "code",
   "execution_count": 16,
   "metadata": {},
   "outputs": [
    {
     "name": "stdout",
     "output_type": "stream",
     "text": [
      "+------------------+--------+--------------------+-----------+-----+----------+------+\n",
      "|              name| surname|              street|       city|state|postalcode|salary|\n",
      "+------------------+--------+--------------------+-----------+-----+----------+------+\n",
      "|           Stephen|   Tyler|7452 Terrace At t...|   SomeTown|   SD|     91234| 32908|\n",
      "|       John Da Man|  Repici|   120 Jefferson St.|  Riverside|   NJ|     08075| 32100|\n",
      "|              null|Blankman|                null|   SomeTown|   SD|     00298| 44221|\n",
      "|Joan the bone Anne|     Jet|  9th at Terrace plc|Desert City|   CO|     00123| 13900|\n",
      "|              Jack|McGinnis|        220 hobo Av.|      Phila|   PA|     09119| 18900|\n",
      "|              John|     Doe|   120 jefferson st.|  Riverside|   NJ|     08075| 10000|\n",
      "+------------------+--------+--------------------+-----------+-----+----------+------+\n",
      "\n"
     ]
    }
   ],
   "source": [
    "df_temp = df.distinct()\n",
    "df_temp.show()"
   ]
  },
  {
   "cell_type": "markdown",
   "metadata": {},
   "source": [
    "```df.dropDuplicates(subset)``` return a new DataFrame comparing a subset of columns"
   ]
  },
  {
   "cell_type": "code",
   "execution_count": 17,
   "metadata": {},
   "outputs": [
    {
     "name": "stdout",
     "output_type": "stream",
     "text": [
      "+------------------+--------+--------------------+-----------+-----+----------+------+\n",
      "|              name| surname|              street|       city|state|postalcode|salary|\n",
      "+------------------+--------+--------------------+-----------+-----+----------+------+\n",
      "|              John|     Doe|   120 jefferson st.|  Riverside|   NJ|     08075| 10000|\n",
      "|              Jack|McGinnis|        220 hobo Av.|      Phila|   PA|     09119| 18900|\n",
      "|           Stephen|   Tyler|7452 Terrace At t...|   SomeTown|   SD|     91234| 32908|\n",
      "|Joan the bone Anne|     Jet|  9th at Terrace plc|Desert City|   CO|     00123| 13900|\n",
      "+------------------+--------+--------------------+-----------+-----+----------+------+\n",
      "\n"
     ]
    }
   ],
   "source": [
    "df_temp = df.dropDuplicates(subset=['state'])\n",
    "df_temp.show()"
   ]
  },
  {
   "cell_type": "markdown",
   "metadata": {},
   "source": [
    "### Null values"
   ]
  },
  {
   "cell_type": "markdown",
   "metadata": {},
   "source": [
    "```.na.fill()``` - return a new DataFrame with value in a list of columns.\n",
    "\n",
    "- Alias:\n",
    "    - ```DataFrame.fillna()```"
   ]
  },
  {
   "cell_type": "code",
   "execution_count": 18,
   "metadata": {},
   "outputs": [
    {
     "name": "stdout",
     "output_type": "stream",
     "text": [
      "+------------------+--------+--------------------+-----------+-----+----------+------+\n",
      "|              name| surname|              street|       city|state|postalcode|salary|\n",
      "+------------------+--------+--------------------+-----------+-----+----------+------+\n",
      "|              John|     Doe|   120 jefferson st.|  Riverside|   NJ|     08075| 10000|\n",
      "|              Jack|McGinnis|        220 hobo Av.|      Phila|   PA|     09119| 18900|\n",
      "|       John Da Man|  Repici|   120 Jefferson St.|  Riverside|   NJ|     08075| 32100|\n",
      "|           Stephen|   Tyler|7452 Terrace At t...|   SomeTown|   SD|     91234| 32908|\n",
      "|           unnamed|Blankman|             unnamed|   SomeTown|   SD|     00298| 44221|\n",
      "|Joan the bone Anne|     Jet|  9th at Terrace plc|Desert City|   CO|     00123| 13900|\n",
      "|              Jack|McGinnis|        220 hobo Av.|      Phila|   PA|     09119| 18900|\n",
      "+------------------+--------+--------------------+-----------+-----+----------+------+\n",
      "\n"
     ]
    }
   ],
   "source": [
    "df.na.fill(\"unnamed\", [\"name\", \"surname\", \"street\", \"city\"]).show() "
   ]
  },
  {
   "cell_type": "code",
   "execution_count": 19,
   "metadata": {},
   "outputs": [
    {
     "name": "stdout",
     "output_type": "stream",
     "text": [
      "+------------------+--------+--------------------+-----------+-----+----------+------+\n",
      "|              name| surname|              street|       city|state|postalcode|salary|\n",
      "+------------------+--------+--------------------+-----------+-----+----------+------+\n",
      "|              John|     Doe|   120 jefferson st.|  Riverside|   NJ|     08075| 10000|\n",
      "|              Jack|McGinnis|        220 hobo Av.|      Phila|   PA|     09119| 18900|\n",
      "|       John Da Man|  Repici|   120 Jefferson St.|  Riverside|   NJ|     08075| 32100|\n",
      "|           Stephen|   Tyler|7452 Terrace At t...|   SomeTown|   SD|     91234| 32908|\n",
      "|           unnamed|Blankman|             unnamed|   SomeTown|   SD|     00298| 44221|\n",
      "|Joan the bone Anne|     Jet|  9th at Terrace plc|Desert City|   CO|     00123| 13900|\n",
      "|              Jack|McGinnis|        220 hobo Av.|      Phila|   PA|     09119| 18900|\n",
      "+------------------+--------+--------------------+-----------+-----+----------+------+\n",
      "\n"
     ]
    }
   ],
   "source": [
    "df.fillna(\"unnamed\", [\"name\", \"surname\", \"street\", \"city\"]).show() "
   ]
  },
  {
   "cell_type": "markdown",
   "metadata": {},
   "source": [
    "```.na.drop()``` - returns a new DataFrame dropping rows with null values. \n",
    "\n",
    "- Alias:\n",
    "    - ```DataFrame.dropna()```"
   ]
  },
  {
   "cell_type": "code",
   "execution_count": 20,
   "metadata": {},
   "outputs": [
    {
     "name": "stdout",
     "output_type": "stream",
     "text": [
      "+------------------+--------+--------------------+-----------+-----+----------+------+\n",
      "|              name| surname|              street|       city|state|postalcode|salary|\n",
      "+------------------+--------+--------------------+-----------+-----+----------+------+\n",
      "|              John|     Doe|   120 jefferson st.|  Riverside|   NJ|     08075| 10000|\n",
      "|              Jack|McGinnis|        220 hobo Av.|      Phila|   PA|     09119| 18900|\n",
      "|       John Da Man|  Repici|   120 Jefferson St.|  Riverside|   NJ|     08075| 32100|\n",
      "|           Stephen|   Tyler|7452 Terrace At t...|   SomeTown|   SD|     91234| 32908|\n",
      "|Joan the bone Anne|     Jet|  9th at Terrace plc|Desert City|   CO|     00123| 13900|\n",
      "|              Jack|McGinnis|        220 hobo Av.|      Phila|   PA|     09119| 18900|\n",
      "+------------------+--------+--------------------+-----------+-----+----------+------+\n",
      "\n"
     ]
    }
   ],
   "source": [
    "df.na.drop().show()"
   ]
  },
  {
   "cell_type": "markdown",
   "metadata": {},
   "source": [
    "```.na.replace(to_replace, value, subset)``` - return a new DataFrame replacing a value with another value in a specified subset\n",
    "\n",
    "- Alias:\n",
    "    -  ```DataFrame.replace()```\n"
   ]
  },
  {
   "cell_type": "code",
   "execution_count": 21,
   "metadata": {},
   "outputs": [
    {
     "name": "stdout",
     "output_type": "stream",
     "text": [
      "+------------------+--------+--------------------+-----------+-----+----------+------+\n",
      "|              name| surname|              street|       city|state|postalcode|salary|\n",
      "+------------------+--------+--------------------+-----------+-----+----------+------+\n",
      "|              John|     Doe|   120 jefferson st.|  Riverside|   NJ|     08075| 10000|\n",
      "|              Jack|McGinnis|        220 hobo Av.|      Phila|   PA|     09119| 18900|\n",
      "|       John Da Man|  Repici|   120 Jefferson St.|  Riverside|   NJ|     08075| 32100|\n",
      "|           Stephen|   Tyler|7452 Terrace At t...|   SomeTown|   SD|     91234| 32908|\n",
      "|              null|Blankman|                null|   SomeTown|   SD|     00298| 44221|\n",
      "|Joan the bone Anne|     Jet|  9th at Terrace plc|Desert City|   CO|     00123| 13900|\n",
      "|              Jack|McGinnis|        220 hobo Av.|      Phila|   PA|     09119| 18900|\n",
      "+------------------+--------+--------------------+-----------+-----+----------+------+\n",
      "\n"
     ]
    }
   ],
   "source": [
    "df.na.replace('08075', '00895', subset=['zipcode']).show()"
   ]
  },
  {
   "cell_type": "markdown",
   "metadata": {},
   "source": [
    "## Increasing and decreasing the number of partitions"
   ]
  },
  {
   "cell_type": "markdown",
   "metadata": {},
   "source": [
    "Now, I will create a temporary dataframe only to show ```.repartition``` and ```.coalesce```.\n",
    "\n",
    "  - ```.repartition(n)``` - A new DataFrame with n partitions. This function uses a shuffle to redistribute data.\n",
    "  - ```.coalesce(n)``` - A new reduced DataFrame with n partitions. this function uses a shuffle to reduce number of partitions data performing better than ```.repartition()```."
   ]
  },
  {
   "cell_type": "code",
   "execution_count": 22,
   "metadata": {},
   "outputs": [
    {
     "name": "stdout",
     "output_type": "stream",
     "text": [
      "Comparing address: \n",
      "    df_temp:  0x1d0eab3a388\n",
      "    df:  0x1d0e9632c88\n"
     ]
    }
   ],
   "source": [
    "df_temp = df.fillna(\"null\")\n",
    "print(\"Comparing address: \")\n",
    "print(\"    df_temp: \" , hex(id(df_temp)))\n",
    "print(\"    df: \" , hex(id(df)))"
   ]
  },
  {
   "cell_type": "code",
   "execution_count": 23,
   "metadata": {},
   "outputs": [
    {
     "name": "stdout",
     "output_type": "stream",
     "text": [
      "Before repartition: 1\n",
      "After repartition: 4\n"
     ]
    }
   ],
   "source": [
    "print(\"Before repartition:\", df_temp.rdd.getNumPartitions())\n",
    "df_temp = df_temp.repartition(4)\n",
    "print(\"After repartition:\", df_temp.rdd.getNumPartitions())"
   ]
  },
  {
   "cell_type": "code",
   "execution_count": 24,
   "metadata": {},
   "outputs": [
    {
     "name": "stdout",
     "output_type": "stream",
     "text": [
      "Before coalesce: 4\n",
      "After coalesce: 1\n"
     ]
    }
   ],
   "source": [
    "print(\"Before coalesce:\", df_temp.rdd.getNumPartitions())\n",
    "df_temp = df_temp.coalesce(1)\n",
    "print(\"After coalesce:\", df_temp.rdd.getNumPartitions())"
   ]
  }
 ],
 "metadata": {
  "kernelspec": {
   "display_name": "Python 3",
   "language": "python",
   "name": "python3"
  },
  "language_info": {
   "codemirror_mode": {
    "name": "ipython",
    "version": 3
   },
   "file_extension": ".py",
   "mimetype": "text/x-python",
   "name": "python",
   "nbconvert_exporter": "python",
   "pygments_lexer": "ipython3",
   "version": "3.7.4"
  }
 },
 "nbformat": 4,
 "nbformat_minor": 4
}
