{
 "cells": [
  {
   "cell_type": "markdown",
   "metadata": {},
   "source": [
    "# DataFrames"
   ]
  },
  {
   "cell_type": "code",
   "execution_count": 1,
   "metadata": {},
   "outputs": [
    {
     "name": "stdout",
     "output_type": "stream",
     "text": [
      "+------------------+--------+--------------------+-----------+-----+-------+-------+\n",
      "|              name| surname|              street|       city|state|zipcode|sallary|\n",
      "+------------------+--------+--------------------+-----------+-----+-------+-------+\n",
      "|              John|     Doe|   120 jefferson st.|  Riverside|   NJ|  08075|  10000|\n",
      "|              Jack|McGinnis|        220 hobo Av.|      Phila|   PA|  09119|  18900|\n",
      "|       John Da Man|  Repici|   120 Jefferson St.|  Riverside|   NJ|  08075|  32100|\n",
      "|           Stephen|   Tyler|7452 Terrace At t...|   SomeTown|   SD|  91234|  32908|\n",
      "|              null|Blankman|                null|   SomeTown|   SD|  00298|  44221|\n",
      "|Joan the bone Anne|     Jet|  9th at Terrace plc|Desert City|   CO|  00123|  13900|\n",
      "|              Jack|McGinnis|        220 hobo Av.|      Phila|   PA|  09119|  18900|\n",
      "+------------------+--------+--------------------+-----------+-----+-------+-------+\n",
      "\n"
     ]
    }
   ],
   "source": [
    "from pyspark.sql import SparkSession\n",
    "\n",
    "# create a spark session\n",
    "spark_session = SparkSession.builder.getOrCreate()\n",
    "\n",
    "# reading a csv file\n",
    "df = spark_session.read.csv(\"sample_data/301-people-info.csv\", header=True)\n",
    "\n",
    "# register in the catalog\n",
    "df.createOrReplaceTempView(\"person_info\")\n",
    "\n",
    "df.show()"
   ]
  },
  {
   "cell_type": "markdown",
   "metadata": {},
   "source": [
    "## Queries in a DataFrame\n",
    "\n",
    "### Select types"
   ]
  },
  {
   "cell_type": "markdown",
   "metadata": {},
   "source": [
    "```.select(*cols)``` select columns and return a new DataFrame\n",
    "\n",
    "Show entries in the ```name``` column:"
   ]
  },
  {
   "cell_type": "code",
   "execution_count": 2,
   "metadata": {},
   "outputs": [
    {
     "name": "stdout",
     "output_type": "stream",
     "text": [
      "+------------------+\n",
      "|              name|\n",
      "+------------------+\n",
      "|              John|\n",
      "|              Jack|\n",
      "|       John Da Man|\n",
      "|           Stephen|\n",
      "|              null|\n",
      "|Joan the bone Anne|\n",
      "|              Jack|\n",
      "+------------------+\n",
      "\n"
     ]
    }
   ],
   "source": [
    "df.select(\"name\").show()"
   ]
  },
  {
   "cell_type": "markdown",
   "metadata": {},
   "source": [
    "Show entries in the ```name``` and ```sallary + 1000``` column:"
   ]
  },
  {
   "cell_type": "code",
   "execution_count": 3,
   "metadata": {},
   "outputs": [
    {
     "name": "stdout",
     "output_type": "stream",
     "text": [
      "+------------------+----------------+\n",
      "|              name|(sallary + 1000)|\n",
      "+------------------+----------------+\n",
      "|              John|         11000.0|\n",
      "|              Jack|         19900.0|\n",
      "|       John Da Man|         33100.0|\n",
      "|           Stephen|         33908.0|\n",
      "|              null|         45221.0|\n",
      "|Joan the bone Anne|         14900.0|\n",
      "|              Jack|         19900.0|\n",
      "+------------------+----------------+\n",
      "\n"
     ]
    }
   ],
   "source": [
    "df.select(df[\"name\"],df[\"sallary\"] + 1000).show()"
   ]
  },
  {
   "cell_type": "markdown",
   "metadata": {},
   "source": [
    "Show entries in the ```name```, ```sallary``` and ```sallary > 20000``` column:"
   ]
  },
  {
   "cell_type": "code",
   "execution_count": 4,
   "metadata": {},
   "outputs": [
    {
     "name": "stdout",
     "output_type": "stream",
     "text": [
      "+------------------+-------+-----------------+\n",
      "|              name|sallary|(sallary > 20000)|\n",
      "+------------------+-------+-----------------+\n",
      "|              John|  10000|            false|\n",
      "|              Jack|  18900|            false|\n",
      "|       John Da Man|  32100|             true|\n",
      "|           Stephen|  32908|             true|\n",
      "|              null|  44221|             true|\n",
      "|Joan the bone Anne|  13900|            false|\n",
      "|              Jack|  18900|            false|\n",
      "+------------------+-------+-----------------+\n",
      "\n"
     ]
    }
   ],
   "source": [
    "df.select(\"name\", \"sallary\", df['sallary'] > 20000).show()"
   ]
  },
  {
   "cell_type": "code",
   "execution_count": 5,
   "metadata": {},
   "outputs": [],
   "source": [
    "from pyspark.sql import Row\n",
    "from pyspark.sql import functions as f\n",
    "df1 = spark_session.createDataFrame([Row(a=1, intlist=[1,2,3], mapfield={\"a\": \"b\", \"c\": \"d\"}),\n",
    "                                     Row(a=2, intlist=[3,4,5], mapfield={\"a\": \"c\", \"c\": \"b\"})])"
   ]
  },
  {
   "cell_type": "markdown",
   "metadata": {},
   "source": [
    "In this example we are using ```.select()``` with ```pyspark.sql.functions.explode()```. This is useful when you have an array or a map in a row."
   ]
  },
  {
   "cell_type": "code",
   "execution_count": 6,
   "metadata": {},
   "outputs": [
    {
     "name": "stdout",
     "output_type": "stream",
     "text": [
      "+---+---+-----+\n",
      "|  a|key|value|\n",
      "+---+---+-----+\n",
      "|  1|  a|    b|\n",
      "|  1|  c|    d|\n",
      "|  2|  a|    c|\n",
      "|  2|  c|    b|\n",
      "+---+---+-----+\n",
      "\n"
     ]
    }
   ],
   "source": [
    "df1.select(\"a\", f.explode(df1.mapfield).alias(\"key\", \"value\")).show()"
   ]
  },
  {
   "cell_type": "code",
   "execution_count": 7,
   "metadata": {},
   "outputs": [
    {
     "name": "stdout",
     "output_type": "stream",
     "text": [
      "+---+-----+\n",
      "|  a|anInt|\n",
      "+---+-----+\n",
      "|  1|    1|\n",
      "|  1|    2|\n",
      "|  1|    3|\n",
      "|  2|    3|\n",
      "|  2|    4|\n",
      "|  2|    5|\n",
      "+---+-----+\n",
      "\n"
     ]
    }
   ],
   "source": [
    "df1.select(\"a\", f.explode(df1.intlist).alias(\"anInt\")).show()"
   ]
  },
  {
   "cell_type": "markdown",
   "metadata": {},
   "source": [
    "### When clause\n",
    "\n",
    "Evaluate one or a list of conditions. ```.otherwise()``` is None as default."
   ]
  },
  {
   "cell_type": "code",
   "execution_count": 8,
   "metadata": {},
   "outputs": [
    {
     "name": "stdout",
     "output_type": "stream",
     "text": [
      "+------------------+-----+\n",
      "|              name|state|\n",
      "+------------------+-----+\n",
      "|              John| null|\n",
      "|              Jack|   PA|\n",
      "|       John Da Man| null|\n",
      "|           Stephen| null|\n",
      "|              null| null|\n",
      "|Joan the bone Anne| null|\n",
      "|              Jack|   PA|\n",
      "+------------------+-----+\n",
      "\n"
     ]
    }
   ],
   "source": [
    "df2 = df.select(\"name\", f.when(df.state == \"PA\", df.state).otherwise(None).alias(\"state\"))\n",
    "df2.show()"
   ]
  },
  {
   "cell_type": "markdown",
   "metadata": {},
   "source": [
    "```.dropna()``` to drop null values."
   ]
  },
  {
   "cell_type": "code",
   "execution_count": 9,
   "metadata": {},
   "outputs": [
    {
     "name": "stdout",
     "output_type": "stream",
     "text": [
      "+----+-----+\n",
      "|name|state|\n",
      "+----+-----+\n",
      "|Jack|   PA|\n",
      "|Jack|   PA|\n",
      "+----+-----+\n",
      "\n"
     ]
    }
   ],
   "source": [
    "df2.dropna(subset=\"state\").show()"
   ]
  },
  {
   "cell_type": "markdown",
   "metadata": {},
   "source": [
    "```.isin()``` checks if the values are in a column"
   ]
  },
  {
   "cell_type": "code",
   "execution_count": 10,
   "metadata": {},
   "outputs": [
    {
     "name": "stdout",
     "output_type": "stream",
     "text": [
      "+-----------+--------+-----------------+---------+-----+-------+-------+\n",
      "|       name| surname|           street|     city|state|zipcode|sallary|\n",
      "+-----------+--------+-----------------+---------+-----+-------+-------+\n",
      "|       Jack|McGinnis|     220 hobo Av.|    Phila|   PA|  09119|  18900|\n",
      "|John Da Man|  Repici|120 Jefferson St.|Riverside|   NJ|  08075|  32100|\n",
      "|       Jack|McGinnis|     220 hobo Av.|    Phila|   PA|  09119|  18900|\n",
      "+-----------+--------+-----------------+---------+-----+-------+-------+\n",
      "\n"
     ]
    }
   ],
   "source": [
    "df[df[\"name\"].isin(\"John Da Man\", \"Jack\")].show()"
   ]
  },
  {
   "cell_type": "markdown",
   "metadata": {},
   "source": [
    "### Like\n",
    "\n",
    "```.like()``` is a binary operator that verifies if each row in the column contains \"McGinnis\""
   ]
  },
  {
   "cell_type": "code",
   "execution_count": 11,
   "metadata": {},
   "outputs": [
    {
     "name": "stdout",
     "output_type": "stream",
     "text": [
      "+------------------+---------------------+\n",
      "|              name|surname LIKE McGinnis|\n",
      "+------------------+---------------------+\n",
      "|              John|                false|\n",
      "|              Jack|                 true|\n",
      "|       John Da Man|                false|\n",
      "|           Stephen|                false|\n",
      "|              null|                false|\n",
      "|Joan the bone Anne|                false|\n",
      "|              Jack|                 true|\n",
      "+------------------+---------------------+\n",
      "\n"
     ]
    }
   ],
   "source": [
    " df.select(\"name\", df[\"surname\"].like(\"McGinnis\")).show()"
   ]
  },
  {
   "cell_type": "markdown",
   "metadata": {},
   "source": [
    "### Startswith\n",
    "\n",
    "```.startswith()``` is a binary operator that verifies if each row in the column starts with \"S\""
   ]
  },
  {
   "cell_type": "code",
   "execution_count": 12,
   "metadata": {},
   "outputs": [
    {
     "name": "stdout",
     "output_type": "stream",
     "text": [
      "+------------------+-------------------+\n",
      "|              name|startswith(name, S)|\n",
      "+------------------+-------------------+\n",
      "|              John|              false|\n",
      "|              Jack|              false|\n",
      "|       John Da Man|              false|\n",
      "|           Stephen|               true|\n",
      "|              null|               null|\n",
      "|Joan the bone Anne|              false|\n",
      "|              Jack|              false|\n",
      "+------------------+-------------------+\n",
      "\n"
     ]
    }
   ],
   "source": [
    "df.select(\"name\", df[\"name\"].startswith(\"S\")).show()"
   ]
  },
  {
   "cell_type": "markdown",
   "metadata": {},
   "source": [
    "```.endswith()``` is a binary operator that verifies if each row in the column ends with \"n\""
   ]
  },
  {
   "cell_type": "code",
   "execution_count": 13,
   "metadata": {},
   "outputs": [
    {
     "name": "stdout",
     "output_type": "stream",
     "text": [
      "+------------------+-----------------+\n",
      "|              name|endswith(name, n)|\n",
      "+------------------+-----------------+\n",
      "|              John|             true|\n",
      "|              Jack|            false|\n",
      "|       John Da Man|             true|\n",
      "|           Stephen|             true|\n",
      "|              null|             null|\n",
      "|Joan the bone Anne|            false|\n",
      "|              Jack|            false|\n",
      "+------------------+-----------------+\n",
      "\n"
     ]
    }
   ],
   "source": [
    "df.select(\"name\", df[\"name\"].endswith(\"n\")).show()"
   ]
  },
  {
   "cell_type": "markdown",
   "metadata": {},
   "source": [
    "```.substr(a, b)``` returns a substring between a and b from each row in a given column."
   ]
  },
  {
   "cell_type": "code",
   "execution_count": 14,
   "metadata": {},
   "outputs": [
    {
     "name": "stdout",
     "output_type": "stream",
     "text": [
      "+---------------------+\n",
      "|substring(name, 0, 5)|\n",
      "+---------------------+\n",
      "|                 John|\n",
      "|                 Jack|\n",
      "|                John |\n",
      "|                Steph|\n",
      "|                 null|\n",
      "|                Joan |\n",
      "|                 Jack|\n",
      "+---------------------+\n",
      "\n"
     ]
    }
   ],
   "source": [
    "df.select(df[\"name\"].substr(0,5)).show()"
   ]
  },
  {
   "cell_type": "markdown",
   "metadata": {},
   "source": [
    "```.between(a, b)``` returns if the rows in a given column contains values between a and b."
   ]
  },
  {
   "cell_type": "code",
   "execution_count": 21,
   "metadata": {},
   "outputs": [
    {
     "name": "stdout",
     "output_type": "stream",
     "text": [
      "+-------+-------------------------------------------+\n",
      "|sallary|((sallary >= 30000) AND (sallary <= 40000))|\n",
      "+-------+-------------------------------------------+\n",
      "|  10000|                                      false|\n",
      "|  18900|                                      false|\n",
      "|  32100|                                       true|\n",
      "|  32908|                                       true|\n",
      "|  44221|                                      false|\n",
      "|  13900|                                      false|\n",
      "|  18900|                                      false|\n",
      "+-------+-------------------------------------------+\n",
      "\n"
     ]
    }
   ],
   "source": [
    "df.select(\"sallary\", df[\"sallary\"].between(30000, 40000)).show()"
   ]
  },
  {
   "cell_type": "code",
   "execution_count": 20,
   "metadata": {},
   "outputs": [
    {
     "name": "stdout",
     "output_type": "stream",
     "text": [
      "+-----+-------------------------------+\n",
      "|state|((state >= A) AND (state <= O))|\n",
      "+-----+-------------------------------+\n",
      "|   NJ|                           true|\n",
      "|   PA|                          false|\n",
      "|   NJ|                           true|\n",
      "|   SD|                          false|\n",
      "|   SD|                          false|\n",
      "|   CO|                           true|\n",
      "|   PA|                          false|\n",
      "+-----+-------------------------------+\n",
      "\n"
     ]
    }
   ],
   "source": [
    "df.select(\"state\", df[\"state\"].between(\"A\", \"O\")).show()"
   ]
  },
  {
   "cell_type": "markdown",
   "metadata": {},
   "source": [
    "### groupby"
   ]
  },
  {
   "cell_type": "code",
   "execution_count": 26,
   "metadata": {},
   "outputs": [
    {
     "name": "stdout",
     "output_type": "stream",
     "text": [
      "+-----+-----+\n",
      "|state|count|\n",
      "+-----+-----+\n",
      "|   NJ|    2|\n",
      "|   PA|    2|\n",
      "|   SD|    2|\n",
      "|   CO|    1|\n",
      "+-----+-----+\n",
      "\n"
     ]
    }
   ],
   "source": [
    "df.groupBy(\"state\").count().show()"
   ]
  },
  {
   "cell_type": "code",
   "execution_count": 23,
   "metadata": {},
   "outputs": [
    {
     "name": "stdout",
     "output_type": "stream",
     "text": [
      "+-------+--------+--------------------+--------+-----+-------+-------+\n",
      "|   name| surname|              street|    city|state|zipcode|sallary|\n",
      "+-------+--------+--------------------+--------+-----+-------+-------+\n",
      "|   Jack|McGinnis|        220 hobo Av.|   Phila|   PA|  09119|  18900|\n",
      "|Stephen|   Tyler|7452 Terrace At t...|SomeTown|   SD|  91234|  32908|\n",
      "|   null|Blankman|                null|SomeTown|   SD|  00298|  44221|\n",
      "|   Jack|McGinnis|        220 hobo Av.|   Phila|   PA|  09119|  18900|\n",
      "+-------+--------+--------------------+--------+-----+-------+-------+\n",
      "\n"
     ]
    }
   ],
   "source": [
    "df.filter(df[\"state\"] > \"O\").show()"
   ]
  },
  {
   "cell_type": "code",
   "execution_count": null,
   "metadata": {},
   "outputs": [],
   "source": []
  }
 ],
 "metadata": {
  "kernelspec": {
   "display_name": "Python 3",
   "language": "python",
   "name": "python3"
  },
  "language_info": {
   "codemirror_mode": {
    "name": "ipython",
    "version": 3
   },
   "file_extension": ".py",
   "mimetype": "text/x-python",
   "name": "python",
   "nbconvert_exporter": "python",
   "pygments_lexer": "ipython3",
   "version": "3.7.4"
  }
 },
 "nbformat": 4,
 "nbformat_minor": 4
}
