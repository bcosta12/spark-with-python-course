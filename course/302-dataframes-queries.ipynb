{
 "cells": [
  {
   "cell_type": "markdown",
   "metadata": {},
   "source": [
    "# DataFrames"
   ]
  },
  {
   "cell_type": "code",
   "execution_count": 1,
   "metadata": {},
   "outputs": [
    {
     "name": "stdout",
     "output_type": "stream",
     "text": [
      "+------------------+--------+--------------------+-----------+-----+----------+------+\n",
      "|              name| surname|              street|       city|state|postalcode|salary|\n",
      "+------------------+--------+--------------------+-----------+-----+----------+------+\n",
      "|              John|     Doe|   120 jefferson st.|  Riverside|   NJ|     08075| 10000|\n",
      "|              Jack|McGinnis|        220 hobo Av.|      Phila|   PA|     09119| 18900|\n",
      "|       John Da Man|  Repici|   120 Jefferson St.|  Riverside|   NJ|     08075| 32100|\n",
      "|           Stephen|   Tyler|7452 Terrace At t...|   SomeTown|   SD|     91234| 32908|\n",
      "|              null|Blankman|                null|   SomeTown|   SD|     00298| 44221|\n",
      "|Joan the bone Anne|     Jet|  9th at Terrace plc|Desert City|   CO|     00123| 13900|\n",
      "|              Jack|McGinnis|        220 hobo Av.|      Phila|   PA|     09119| 18900|\n",
      "+------------------+--------+--------------------+-----------+-----+----------+------+\n",
      "\n"
     ]
    }
   ],
   "source": [
    "from pyspark.sql import SparkSession\n",
    "\n",
    "# create a spark session\n",
    "spark_session = SparkSession.builder.getOrCreate()\n",
    "\n",
    "# reading a csv file\n",
    "df = spark_session.read.csv(\"sample_data/301-people-info.csv\", header=True)\n",
    "\n",
    "# register in the catalog\n",
    "df.createOrReplaceTempView(\"person_info\")\n",
    "\n",
    "df.show()"
   ]
  },
  {
   "cell_type": "markdown",
   "metadata": {},
   "source": [
    "## Queries in a DataFrame\n",
    "\n",
    "### Select types"
   ]
  },
  {
   "cell_type": "markdown",
   "metadata": {},
   "source": [
    "```.select(*cols)``` select columns and return a new DataFrame\n",
    "\n",
    "Show entries in the ```name``` column:"
   ]
  },
  {
   "cell_type": "code",
   "execution_count": 2,
   "metadata": {},
   "outputs": [
    {
     "name": "stdout",
     "output_type": "stream",
     "text": [
      "+------------------+\n",
      "|              name|\n",
      "+------------------+\n",
      "|              John|\n",
      "|              Jack|\n",
      "|       John Da Man|\n",
      "|           Stephen|\n",
      "|              null|\n",
      "|Joan the bone Anne|\n",
      "|              Jack|\n",
      "+------------------+\n",
      "\n"
     ]
    }
   ],
   "source": [
    "df.select(\"name\").show()"
   ]
  },
  {
   "cell_type": "markdown",
   "metadata": {},
   "source": [
    "Show entries in the ```name``` and ```salary + 1000``` column:"
   ]
  },
  {
   "cell_type": "code",
   "execution_count": 3,
   "metadata": {
    "collapsed": true,
    "jupyter": {
     "outputs_hidden": true
    }
   },
   "outputs": [
    {
     "name": "stdout",
     "output_type": "stream",
     "text": [
      "+------------------+---------------+\n",
      "|              name|(salary + 1000)|\n",
      "+------------------+---------------+\n",
      "|              John|        11000.0|\n",
      "|              Jack|        19900.0|\n",
      "|       John Da Man|        33100.0|\n",
      "|           Stephen|        33908.0|\n",
      "|              null|        45221.0|\n",
      "|Joan the bone Anne|        14900.0|\n",
      "|              Jack|        19900.0|\n",
      "+------------------+---------------+\n",
      "\n"
     ]
    }
   ],
   "source": [
    "df.select(df[\"name\"],df[\"salary\"] + 1000).show()"
   ]
  },
  {
   "cell_type": "markdown",
   "metadata": {},
   "source": [
    "Show entries in the ```name```, ```salary``` and ```salary > 20000``` column:"
   ]
  },
  {
   "cell_type": "code",
   "execution_count": 4,
   "metadata": {},
   "outputs": [
    {
     "name": "stdout",
     "output_type": "stream",
     "text": [
      "+------------------+------+----------------+\n",
      "|              name|salary|(salary > 20000)|\n",
      "+------------------+------+----------------+\n",
      "|              John| 10000|           false|\n",
      "|              Jack| 18900|           false|\n",
      "|       John Da Man| 32100|            true|\n",
      "|           Stephen| 32908|            true|\n",
      "|              null| 44221|            true|\n",
      "|Joan the bone Anne| 13900|           false|\n",
      "|              Jack| 18900|           false|\n",
      "+------------------+------+----------------+\n",
      "\n"
     ]
    }
   ],
   "source": [
    "df.select(\"name\", \"salary\", df['salary'] > 20000).show()"
   ]
  },
  {
   "cell_type": "code",
   "execution_count": 5,
   "metadata": {},
   "outputs": [],
   "source": [
    "from pyspark.sql import Row\n",
    "from pyspark.sql import functions as f\n",
    "df1 = spark_session.createDataFrame([Row(a=1, intlist=[1,2,3], mapfield={\"a\": \"b\", \"c\": \"d\"}),\n",
    "                                     Row(a=2, intlist=[3,4,5], mapfield={\"a\": \"c\", \"c\": \"b\"})])"
   ]
  },
  {
   "cell_type": "markdown",
   "metadata": {},
   "source": [
    "In this example we are using ```.select()``` with ```pyspark.sql.functions.explode()```. This is useful when you have an array or a map in a row."
   ]
  },
  {
   "cell_type": "code",
   "execution_count": 6,
   "metadata": {},
   "outputs": [
    {
     "name": "stdout",
     "output_type": "stream",
     "text": [
      "+---+---+-----+\n",
      "|  a|key|value|\n",
      "+---+---+-----+\n",
      "|  1|  a|    b|\n",
      "|  1|  c|    d|\n",
      "|  2|  a|    c|\n",
      "|  2|  c|    b|\n",
      "+---+---+-----+\n",
      "\n"
     ]
    }
   ],
   "source": [
    "df1.select(\"a\", f.explode(df1.mapfield).alias(\"key\", \"value\")).show()"
   ]
  },
  {
   "cell_type": "code",
   "execution_count": 7,
   "metadata": {},
   "outputs": [
    {
     "name": "stdout",
     "output_type": "stream",
     "text": [
      "+---+-----+\n",
      "|  a|anInt|\n",
      "+---+-----+\n",
      "|  1|    1|\n",
      "|  1|    2|\n",
      "|  1|    3|\n",
      "|  2|    3|\n",
      "|  2|    4|\n",
      "|  2|    5|\n",
      "+---+-----+\n",
      "\n"
     ]
    }
   ],
   "source": [
    "df1.select(\"a\", f.explode(df1.intlist).alias(\"anInt\")).show()"
   ]
  },
  {
   "cell_type": "markdown",
   "metadata": {},
   "source": [
    "### When clause\n",
    "\n",
    "Evaluate one or a list of conditions. ```.otherwise()``` is None as default."
   ]
  },
  {
   "cell_type": "code",
   "execution_count": 8,
   "metadata": {},
   "outputs": [
    {
     "name": "stdout",
     "output_type": "stream",
     "text": [
      "+------------------+-----+\n",
      "|              name|state|\n",
      "+------------------+-----+\n",
      "|              John| null|\n",
      "|              Jack|   PA|\n",
      "|       John Da Man| null|\n",
      "|           Stephen| null|\n",
      "|              null| null|\n",
      "|Joan the bone Anne| null|\n",
      "|              Jack|   PA|\n",
      "+------------------+-----+\n",
      "\n"
     ]
    }
   ],
   "source": [
    "df2 = df.select(\"name\", f.when(df.state == \"PA\", df.state).otherwise(None).alias(\"state\"))\n",
    "df2.show()"
   ]
  },
  {
   "cell_type": "markdown",
   "metadata": {},
   "source": [
    "```.dropna()``` to drop null values."
   ]
  },
  {
   "cell_type": "code",
   "execution_count": 9,
   "metadata": {},
   "outputs": [
    {
     "name": "stdout",
     "output_type": "stream",
     "text": [
      "+----+-----+\n",
      "|name|state|\n",
      "+----+-----+\n",
      "|Jack|   PA|\n",
      "|Jack|   PA|\n",
      "+----+-----+\n",
      "\n"
     ]
    }
   ],
   "source": [
    "df2.dropna(subset=\"state\").show()"
   ]
  },
  {
   "cell_type": "markdown",
   "metadata": {},
   "source": [
    "```.isin()``` checks if the values are in a column"
   ]
  },
  {
   "cell_type": "code",
   "execution_count": 10,
   "metadata": {},
   "outputs": [
    {
     "name": "stdout",
     "output_type": "stream",
     "text": [
      "+-----------+--------+-----------------+---------+-----+----------+------+\n",
      "|       name| surname|           street|     city|state|postalcode|salary|\n",
      "+-----------+--------+-----------------+---------+-----+----------+------+\n",
      "|       Jack|McGinnis|     220 hobo Av.|    Phila|   PA|     09119| 18900|\n",
      "|John Da Man|  Repici|120 Jefferson St.|Riverside|   NJ|     08075| 32100|\n",
      "|       Jack|McGinnis|     220 hobo Av.|    Phila|   PA|     09119| 18900|\n",
      "+-----------+--------+-----------------+---------+-----+----------+------+\n",
      "\n"
     ]
    }
   ],
   "source": [
    "df[df[\"name\"].isin(\"John Da Man\", \"Jack\")].show()"
   ]
  },
  {
   "cell_type": "markdown",
   "metadata": {},
   "source": [
    "### Like\n",
    "\n",
    "```.like()``` is a binary operator that verifies if each row in the column contains \"McGinnis\""
   ]
  },
  {
   "cell_type": "code",
   "execution_count": 11,
   "metadata": {},
   "outputs": [
    {
     "name": "stdout",
     "output_type": "stream",
     "text": [
      "+------------------+---------------------+\n",
      "|              name|surname LIKE McGinnis|\n",
      "+------------------+---------------------+\n",
      "|              John|                false|\n",
      "|              Jack|                 true|\n",
      "|       John Da Man|                false|\n",
      "|           Stephen|                false|\n",
      "|              null|                false|\n",
      "|Joan the bone Anne|                false|\n",
      "|              Jack|                 true|\n",
      "+------------------+---------------------+\n",
      "\n"
     ]
    }
   ],
   "source": [
    " df.select(\"name\", df[\"surname\"].like(\"McGinnis\")).show()"
   ]
  },
  {
   "cell_type": "markdown",
   "metadata": {},
   "source": [
    "### Startswith\n",
    "\n",
    "```.startswith()``` is a binary operator that verifies if each row in the column starts with \"S\""
   ]
  },
  {
   "cell_type": "code",
   "execution_count": 12,
   "metadata": {},
   "outputs": [
    {
     "name": "stdout",
     "output_type": "stream",
     "text": [
      "+------------------+-------------------+\n",
      "|              name|startswith(name, S)|\n",
      "+------------------+-------------------+\n",
      "|              John|              false|\n",
      "|              Jack|              false|\n",
      "|       John Da Man|              false|\n",
      "|           Stephen|               true|\n",
      "|              null|               null|\n",
      "|Joan the bone Anne|              false|\n",
      "|              Jack|              false|\n",
      "+------------------+-------------------+\n",
      "\n"
     ]
    }
   ],
   "source": [
    "df.select(\"name\", df[\"name\"].startswith(\"S\")).show()"
   ]
  },
  {
   "cell_type": "markdown",
   "metadata": {},
   "source": [
    "```.endswith()``` is a binary operator that verifies if each row in the column ends with \"n\""
   ]
  },
  {
   "cell_type": "code",
   "execution_count": 13,
   "metadata": {},
   "outputs": [
    {
     "name": "stdout",
     "output_type": "stream",
     "text": [
      "+------------------+-----------------+\n",
      "|              name|endswith(name, n)|\n",
      "+------------------+-----------------+\n",
      "|              John|             true|\n",
      "|              Jack|            false|\n",
      "|       John Da Man|             true|\n",
      "|           Stephen|             true|\n",
      "|              null|             null|\n",
      "|Joan the bone Anne|            false|\n",
      "|              Jack|            false|\n",
      "+------------------+-----------------+\n",
      "\n"
     ]
    }
   ],
   "source": [
    "df.select(\"name\", df[\"name\"].endswith(\"n\")).show()"
   ]
  },
  {
   "cell_type": "markdown",
   "metadata": {},
   "source": [
    "```.substr(a, b)``` returns a substring between a and b from each row in a given column."
   ]
  },
  {
   "cell_type": "code",
   "execution_count": 14,
   "metadata": {},
   "outputs": [
    {
     "name": "stdout",
     "output_type": "stream",
     "text": [
      "+---------------------+\n",
      "|substring(name, 0, 5)|\n",
      "+---------------------+\n",
      "|                 John|\n",
      "|                 Jack|\n",
      "|                John |\n",
      "|                Steph|\n",
      "|                 null|\n",
      "|                Joan |\n",
      "|                 Jack|\n",
      "+---------------------+\n",
      "\n"
     ]
    }
   ],
   "source": [
    "df.select(df[\"name\"].substr(0,5)).show()"
   ]
  },
  {
   "cell_type": "markdown",
   "metadata": {},
   "source": [
    "```.between(a, b)``` returns if the rows in a given column contains values between a and b."
   ]
  },
  {
   "cell_type": "code",
   "execution_count": 15,
   "metadata": {},
   "outputs": [
    {
     "name": "stdout",
     "output_type": "stream",
     "text": [
      "+------+-----------------------------------------+\n",
      "|salary|((salary >= 30000) AND (salary <= 40000))|\n",
      "+------+-----------------------------------------+\n",
      "| 10000|                                    false|\n",
      "| 18900|                                    false|\n",
      "| 32100|                                     true|\n",
      "| 32908|                                     true|\n",
      "| 44221|                                    false|\n",
      "| 13900|                                    false|\n",
      "| 18900|                                    false|\n",
      "+------+-----------------------------------------+\n",
      "\n"
     ]
    }
   ],
   "source": [
    "df.select(\"salary\", df[\"salary\"].between(30000, 40000)).show()"
   ]
  },
  {
   "cell_type": "code",
   "execution_count": 16,
   "metadata": {},
   "outputs": [
    {
     "name": "stdout",
     "output_type": "stream",
     "text": [
      "+-----+-------------------------------+\n",
      "|state|((state >= A) AND (state <= O))|\n",
      "+-----+-------------------------------+\n",
      "|   NJ|                           true|\n",
      "|   PA|                          false|\n",
      "|   NJ|                           true|\n",
      "|   SD|                          false|\n",
      "|   SD|                          false|\n",
      "|   CO|                           true|\n",
      "|   PA|                          false|\n",
      "+-----+-------------------------------+\n",
      "\n"
     ]
    }
   ],
   "source": [
    "df.select(\"state\", df[\"state\"].between(\"A\", \"O\")).show()"
   ]
  },
  {
   "cell_type": "markdown",
   "metadata": {},
   "source": [
    "### groupby\n",
    "\n",
    "```.groupBy(*cols)``` aggregates specified columns"
   ]
  },
  {
   "cell_type": "code",
   "execution_count": 17,
   "metadata": {},
   "outputs": [
    {
     "name": "stdout",
     "output_type": "stream",
     "text": [
      "+-----+-----+\n",
      "|state|count|\n",
      "+-----+-----+\n",
      "|   NJ|    2|\n",
      "|   PA|    2|\n",
      "|   SD|    2|\n",
      "|   CO|    1|\n",
      "+-----+-----+\n",
      "\n"
     ]
    }
   ],
   "source": [
    "df.groupBy(\"state\").count().show()"
   ]
  },
  {
   "cell_type": "markdown",
   "metadata": {},
   "source": [
    "```.filter(condition)``` filter rows using the given condition. It's the same as the SQL ```WHERE``` clause."
   ]
  },
  {
   "cell_type": "code",
   "execution_count": 18,
   "metadata": {},
   "outputs": [
    {
     "name": "stdout",
     "output_type": "stream",
     "text": [
      "+-------+--------+--------------------+--------+-----+----------+------+\n",
      "|   name| surname|              street|    city|state|postalcode|salary|\n",
      "+-------+--------+--------------------+--------+-----+----------+------+\n",
      "|   Jack|McGinnis|        220 hobo Av.|   Phila|   PA|     09119| 18900|\n",
      "|Stephen|   Tyler|7452 Terrace At t...|SomeTown|   SD|     91234| 32908|\n",
      "|   null|Blankman|                null|SomeTown|   SD|     00298| 44221|\n",
      "|   Jack|McGinnis|        220 hobo Av.|   Phila|   PA|     09119| 18900|\n",
      "+-------+--------+--------------------+--------+-----+----------+------+\n",
      "\n"
     ]
    }
   ],
   "source": [
    "df.filter(df[\"state\"] > \"O\").show()"
   ]
  },
  {
   "cell_type": "markdown",
   "metadata": {},
   "source": [
    "### Sorting data\n",
    "\n",
    "The ```.sort()``` is used for ordering specified columns. It's also used ```.orderBy()```."
   ]
  },
  {
   "cell_type": "code",
   "execution_count": 19,
   "metadata": {},
   "outputs": [
    {
     "name": "stdout",
     "output_type": "stream",
     "text": [
      "+------------------+--------+--------------------+-----------+-----+----------+------+\n",
      "|              name| surname|              street|       city|state|postalcode|salary|\n",
      "+------------------+--------+--------------------+-----------+-----+----------+------+\n",
      "|              null|Blankman|                null|   SomeTown|   SD|     00298| 44221|\n",
      "|           Stephen|   Tyler|7452 Terrace At t...|   SomeTown|   SD|     91234| 32908|\n",
      "|       John Da Man|  Repici|   120 Jefferson St.|  Riverside|   NJ|     08075| 32100|\n",
      "|              Jack|McGinnis|        220 hobo Av.|      Phila|   PA|     09119| 18900|\n",
      "|              Jack|McGinnis|        220 hobo Av.|      Phila|   PA|     09119| 18900|\n",
      "|Joan the bone Anne|     Jet|  9th at Terrace plc|Desert City|   CO|     00123| 13900|\n",
      "|              John|     Doe|   120 jefferson st.|  Riverside|   NJ|     08075| 10000|\n",
      "+------------------+--------+--------------------+-----------+-----+----------+------+\n",
      "\n"
     ]
    }
   ],
   "source": [
    " df.sort(\"salary\", ascending=False).show()"
   ]
  },
  {
   "cell_type": "code",
   "execution_count": 20,
   "metadata": {},
   "outputs": [
    {
     "name": "stdout",
     "output_type": "stream",
     "text": [
      "+------------------+--------+--------------------+-----------+-----+----------+------+\n",
      "|              name| surname|              street|       city|state|postalcode|salary|\n",
      "+------------------+--------+--------------------+-----------+-----+----------+------+\n",
      "|              John|     Doe|   120 jefferson st.|  Riverside|   NJ|     08075| 10000|\n",
      "|Joan the bone Anne|     Jet|  9th at Terrace plc|Desert City|   CO|     00123| 13900|\n",
      "|              Jack|McGinnis|        220 hobo Av.|      Phila|   PA|     09119| 18900|\n",
      "|              Jack|McGinnis|        220 hobo Av.|      Phila|   PA|     09119| 18900|\n",
      "|       John Da Man|  Repici|   120 Jefferson St.|  Riverside|   NJ|     08075| 32100|\n",
      "|           Stephen|   Tyler|7452 Terrace At t...|   SomeTown|   SD|     91234| 32908|\n",
      "|              null|Blankman|                null|   SomeTown|   SD|     00298| 44221|\n",
      "+------------------+--------+--------------------+-----------+-----+----------+------+\n",
      "\n"
     ]
    }
   ],
   "source": [
    "df.sort(df[\"salary\"].asc()).show()"
   ]
  },
  {
   "cell_type": "code",
   "execution_count": 21,
   "metadata": {},
   "outputs": [
    {
     "name": "stdout",
     "output_type": "stream",
     "text": [
      "+------------------+--------+--------------------+-----------+-----+----------+------+\n",
      "|              name| surname|              street|       city|state|postalcode|salary|\n",
      "+------------------+--------+--------------------+-----------+-----+----------+------+\n",
      "|              null|Blankman|                null|   SomeTown|   SD|     00298| 44221|\n",
      "|           Stephen|   Tyler|7452 Terrace At t...|   SomeTown|   SD|     91234| 32908|\n",
      "|              Jack|McGinnis|        220 hobo Av.|      Phila|   PA|     09119| 18900|\n",
      "|              Jack|McGinnis|        220 hobo Av.|      Phila|   PA|     09119| 18900|\n",
      "|              John|     Doe|   120 jefferson st.|  Riverside|   NJ|     08075| 10000|\n",
      "|       John Da Man|  Repici|   120 Jefferson St.|  Riverside|   NJ|     08075| 32100|\n",
      "|Joan the bone Anne|     Jet|  9th at Terrace plc|Desert City|   CO|     00123| 13900|\n",
      "+------------------+--------+--------------------+-----------+-----+----------+------+\n",
      "\n"
     ]
    }
   ],
   "source": [
    "df.sort(df[\"state\"].desc()).show()"
   ]
  },
  {
   "cell_type": "code",
   "execution_count": 22,
   "metadata": {},
   "outputs": [
    {
     "name": "stdout",
     "output_type": "stream",
     "text": [
      "+------------------+--------+--------------------+-----------+-----+----------+------+\n",
      "|              name| surname|              street|       city|state|postalcode|salary|\n",
      "+------------------+--------+--------------------+-----------+-----+----------+------+\n",
      "|           Stephen|   Tyler|7452 Terrace At t...|   SomeTown|   SD|     91234| 32908|\n",
      "|              null|Blankman|                null|   SomeTown|   SD|     00298| 44221|\n",
      "|              John|     Doe|   120 jefferson st.|  Riverside|   NJ|     08075| 10000|\n",
      "|       John Da Man|  Repici|   120 Jefferson St.|  Riverside|   NJ|     08075| 32100|\n",
      "|              Jack|McGinnis|        220 hobo Av.|      Phila|   PA|     09119| 18900|\n",
      "|              Jack|McGinnis|        220 hobo Av.|      Phila|   PA|     09119| 18900|\n",
      "|Joan the bone Anne|     Jet|  9th at Terrace plc|Desert City|   CO|     00123| 13900|\n",
      "+------------------+--------+--------------------+-----------+-----+----------+------+\n",
      "\n"
     ]
    }
   ],
   "source": [
    "df.orderBy([\"city\", \"salary\"],ascending=[0,1]).show()"
   ]
  },
  {
   "cell_type": "markdown",
   "metadata": {},
   "source": [
    "### Adding columns\n",
    "\n",
    "Image our people received 20% of salary increase, but it's important to keep the old salary.\n",
    "\n",
    "```.withColumn()``` returns a new DataFrame by adding or replacing when it has the same name."
   ]
  },
  {
   "cell_type": "code",
   "execution_count": 23,
   "metadata": {},
   "outputs": [
    {
     "name": "stdout",
     "output_type": "stream",
     "text": [
      "+------------------+--------+--------------------+-----------+-----+----------+------+----------------+\n",
      "|              name| surname|              street|       city|state|postalcode|salary|sallary_increase|\n",
      "+------------------+--------+--------------------+-----------+-----+----------+------+----------------+\n",
      "|              John|     Doe|   120 jefferson st.|  Riverside|   NJ|     08075| 10000|         12000.0|\n",
      "|              Jack|McGinnis|        220 hobo Av.|      Phila|   PA|     09119| 18900|         22680.0|\n",
      "|       John Da Man|  Repici|   120 Jefferson St.|  Riverside|   NJ|     08075| 32100|         38520.0|\n",
      "|           Stephen|   Tyler|7452 Terrace At t...|   SomeTown|   SD|     91234| 32908|         39489.6|\n",
      "|              null|Blankman|                null|   SomeTown|   SD|     00298| 44221|         53065.2|\n",
      "|Joan the bone Anne|     Jet|  9th at Terrace plc|Desert City|   CO|     00123| 13900|         16680.0|\n",
      "|              Jack|McGinnis|        220 hobo Av.|      Phila|   PA|     09119| 18900|         22680.0|\n",
      "+------------------+--------+--------------------+-----------+-----+----------+------+----------------+\n",
      "\n"
     ]
    }
   ],
   "source": [
    "df_temp = df.withColumn('sallary_increase', df.salary * 1.2)\n",
    "df_temp.show()"
   ]
  },
  {
   "cell_type": "markdown",
   "metadata": {},
   "source": [
    "### Updating columns\n",
    "\n",
    "You notice you wrote the column ```salary_increase``` wrong.\n",
    "\n",
    "```.withColumnRenamed()``` returns a new DataFrame by renaming an existing column."
   ]
  },
  {
   "cell_type": "code",
   "execution_count": 24,
   "metadata": {},
   "outputs": [
    {
     "name": "stdout",
     "output_type": "stream",
     "text": [
      "+------------------+--------+--------------------+-----------+-----+----------+------+---------------+\n",
      "|              name| surname|              street|       city|state|postalcode|salary|salary_increase|\n",
      "+------------------+--------+--------------------+-----------+-----+----------+------+---------------+\n",
      "|              John|     Doe|   120 jefferson st.|  Riverside|   NJ|     08075| 10000|        12000.0|\n",
      "|              Jack|McGinnis|        220 hobo Av.|      Phila|   PA|     09119| 18900|        22680.0|\n",
      "|       John Da Man|  Repici|   120 Jefferson St.|  Riverside|   NJ|     08075| 32100|        38520.0|\n",
      "|           Stephen|   Tyler|7452 Terrace At t...|   SomeTown|   SD|     91234| 32908|        39489.6|\n",
      "|              null|Blankman|                null|   SomeTown|   SD|     00298| 44221|        53065.2|\n",
      "|Joan the bone Anne|     Jet|  9th at Terrace plc|Desert City|   CO|     00123| 13900|        16680.0|\n",
      "|              Jack|McGinnis|        220 hobo Av.|      Phila|   PA|     09119| 18900|        22680.0|\n",
      "+------------------+--------+--------------------+-----------+-----+----------+------+---------------+\n",
      "\n"
     ]
    }
   ],
   "source": [
    "df_temp = df_temp.withColumnRenamed('sallary_increase', 'salary_increase')\n",
    "df_temp.show()"
   ]
  },
  {
   "cell_type": "markdown",
   "metadata": {},
   "source": [
    "### Removing columns\n",
    "\n",
    "However, your boss said you to drop salary_increase column.\n",
    "\n",
    "```.drop()``` return a new DataFrame removing the specified column."
   ]
  },
  {
   "cell_type": "code",
   "execution_count": 25,
   "metadata": {},
   "outputs": [],
   "source": [
    "df_temp = df_temp.drop(\"salary_increase\")"
   ]
  },
  {
   "cell_type": "code",
   "execution_count": 26,
   "metadata": {},
   "outputs": [
    {
     "name": "stdout",
     "output_type": "stream",
     "text": [
      "+------------------+--------+--------------------+-----------+-----+----------+------+\n",
      "|              name| surname|              street|       city|state|postalcode|salary|\n",
      "+------------------+--------+--------------------+-----------+-----+----------+------+\n",
      "|              John|     Doe|   120 jefferson st.|  Riverside|   NJ|     08075| 10000|\n",
      "|              Jack|McGinnis|        220 hobo Av.|      Phila|   PA|     09119| 18900|\n",
      "|       John Da Man|  Repici|   120 Jefferson St.|  Riverside|   NJ|     08075| 32100|\n",
      "|           Stephen|   Tyler|7452 Terrace At t...|   SomeTown|   SD|     91234| 32908|\n",
      "|              null|Blankman|                null|   SomeTown|   SD|     00298| 44221|\n",
      "|Joan the bone Anne|     Jet|  9th at Terrace plc|Desert City|   CO|     00123| 13900|\n",
      "|              Jack|McGinnis|        220 hobo Av.|      Phila|   PA|     09119| 18900|\n",
      "+------------------+--------+--------------------+-----------+-----+----------+------+\n",
      "\n"
     ]
    }
   ],
   "source": [
    "df_temp.show()"
   ]
  },
  {
   "cell_type": "markdown",
   "metadata": {},
   "source": [
    "## Query as SQL"
   ]
  },
  {
   "cell_type": "code",
   "execution_count": 27,
   "metadata": {},
   "outputs": [
    {
     "name": "stdout",
     "output_type": "stream",
     "text": [
      "+-----------+--------+--------------------+---------+-----+----------+------+\n",
      "|       name| surname|              street|     city|state|postalcode|salary|\n",
      "+-----------+--------+--------------------+---------+-----+----------+------+\n",
      "|John Da Man|  Repici|   120 Jefferson St.|Riverside|   NJ|     08075| 32100|\n",
      "|    Stephen|   Tyler|7452 Terrace At t...| SomeTown|   SD|     91234| 32908|\n",
      "|       null|Blankman|                null| SomeTown|   SD|     00298| 44221|\n",
      "+-----------+--------+--------------------+---------+-----+----------+------+\n",
      "\n"
     ]
    }
   ],
   "source": [
    "query = \"Select * from person_info where salary > 20000\"\n",
    "\n",
    "spark_session.sql(query).show()"
   ]
  },
  {
   "cell_type": "markdown",
   "metadata": {},
   "source": [
    "## Output\n",
    "\n",
    "### DF to RDD"
   ]
  },
  {
   "cell_type": "code",
   "execution_count": 28,
   "metadata": {},
   "outputs": [
    {
     "data": {
      "text/plain": [
       "[Row(name='John', surname='Doe', street='120 jefferson st.', city='Riverside', state='NJ', postalcode='08075', salary='10000'),\n",
       " Row(name='Jack', surname='McGinnis', street='220 hobo Av.', city='Phila', state='PA', postalcode='09119', salary='18900'),\n",
       " Row(name='John Da Man', surname='Repici', street='120 Jefferson St.', city='Riverside', state='NJ', postalcode='08075', salary='32100'),\n",
       " Row(name='Stephen', surname='Tyler', street='7452 Terrace At the Plaza road', city='SomeTown', state='SD', postalcode='91234', salary='32908'),\n",
       " Row(name=None, surname='Blankman', street=None, city='SomeTown', state='SD', postalcode='00298', salary='44221'),\n",
       " Row(name='Joan the bone Anne', surname='Jet', street='9th at Terrace plc', city='Desert City', state='CO', postalcode='00123', salary='13900'),\n",
       " Row(name='Jack', surname='McGinnis', street='220 hobo Av.', city='Phila', state='PA', postalcode='09119', salary='18900')]"
      ]
     },
     "execution_count": 28,
     "metadata": {},
     "output_type": "execute_result"
    }
   ],
   "source": [
    "rdd = df.rdd\n",
    "rdd.collect()"
   ]
  },
  {
   "cell_type": "markdown",
   "metadata": {},
   "source": [
    "### DF to RDD of string"
   ]
  },
  {
   "cell_type": "code",
   "execution_count": 29,
   "metadata": {},
   "outputs": [
    {
     "data": {
      "text/plain": [
       "['{\"name\":\"John\",\"surname\":\"Doe\",\"street\":\"120 jefferson st.\",\"city\":\"Riverside\",\"state\":\"NJ\",\"postalcode\":\"08075\",\"salary\":\"10000\"}',\n",
       " '{\"name\":\"Jack\",\"surname\":\"McGinnis\",\"street\":\"220 hobo Av.\",\"city\":\"Phila\",\"state\":\"PA\",\"postalcode\":\"09119\",\"salary\":\"18900\"}']"
      ]
     },
     "execution_count": 29,
     "metadata": {},
     "output_type": "execute_result"
    }
   ],
   "source": [
    "df.toJSON().take(2)"
   ]
  },
  {
   "cell_type": "markdown",
   "metadata": {},
   "source": [
    "### DF to Pandas DataFrame"
   ]
  },
  {
   "cell_type": "code",
   "execution_count": 30,
   "metadata": {},
   "outputs": [
    {
     "data": {
      "text/html": [
       "<div>\n",
       "<style scoped>\n",
       "    .dataframe tbody tr th:only-of-type {\n",
       "        vertical-align: middle;\n",
       "    }\n",
       "\n",
       "    .dataframe tbody tr th {\n",
       "        vertical-align: top;\n",
       "    }\n",
       "\n",
       "    .dataframe thead th {\n",
       "        text-align: right;\n",
       "    }\n",
       "</style>\n",
       "<table border=\"1\" class=\"dataframe\">\n",
       "  <thead>\n",
       "    <tr style=\"text-align: right;\">\n",
       "      <th></th>\n",
       "      <th>name</th>\n",
       "      <th>surname</th>\n",
       "      <th>street</th>\n",
       "      <th>city</th>\n",
       "      <th>state</th>\n",
       "      <th>postalcode</th>\n",
       "      <th>salary</th>\n",
       "    </tr>\n",
       "  </thead>\n",
       "  <tbody>\n",
       "    <tr>\n",
       "      <td>0</td>\n",
       "      <td>John</td>\n",
       "      <td>Doe</td>\n",
       "      <td>120 jefferson st.</td>\n",
       "      <td>Riverside</td>\n",
       "      <td>NJ</td>\n",
       "      <td>08075</td>\n",
       "      <td>10000</td>\n",
       "    </tr>\n",
       "    <tr>\n",
       "      <td>1</td>\n",
       "      <td>Jack</td>\n",
       "      <td>McGinnis</td>\n",
       "      <td>220 hobo Av.</td>\n",
       "      <td>Phila</td>\n",
       "      <td>PA</td>\n",
       "      <td>09119</td>\n",
       "      <td>18900</td>\n",
       "    </tr>\n",
       "    <tr>\n",
       "      <td>2</td>\n",
       "      <td>John Da Man</td>\n",
       "      <td>Repici</td>\n",
       "      <td>120 Jefferson St.</td>\n",
       "      <td>Riverside</td>\n",
       "      <td>NJ</td>\n",
       "      <td>08075</td>\n",
       "      <td>32100</td>\n",
       "    </tr>\n",
       "    <tr>\n",
       "      <td>3</td>\n",
       "      <td>Stephen</td>\n",
       "      <td>Tyler</td>\n",
       "      <td>7452 Terrace At the Plaza road</td>\n",
       "      <td>SomeTown</td>\n",
       "      <td>SD</td>\n",
       "      <td>91234</td>\n",
       "      <td>32908</td>\n",
       "    </tr>\n",
       "    <tr>\n",
       "      <td>4</td>\n",
       "      <td>None</td>\n",
       "      <td>Blankman</td>\n",
       "      <td>None</td>\n",
       "      <td>SomeTown</td>\n",
       "      <td>SD</td>\n",
       "      <td>00298</td>\n",
       "      <td>44221</td>\n",
       "    </tr>\n",
       "    <tr>\n",
       "      <td>5</td>\n",
       "      <td>Joan the bone Anne</td>\n",
       "      <td>Jet</td>\n",
       "      <td>9th at Terrace plc</td>\n",
       "      <td>Desert City</td>\n",
       "      <td>CO</td>\n",
       "      <td>00123</td>\n",
       "      <td>13900</td>\n",
       "    </tr>\n",
       "    <tr>\n",
       "      <td>6</td>\n",
       "      <td>Jack</td>\n",
       "      <td>McGinnis</td>\n",
       "      <td>220 hobo Av.</td>\n",
       "      <td>Phila</td>\n",
       "      <td>PA</td>\n",
       "      <td>09119</td>\n",
       "      <td>18900</td>\n",
       "    </tr>\n",
       "  </tbody>\n",
       "</table>\n",
       "</div>"
      ],
      "text/plain": [
       "                 name   surname                          street         city  \\\n",
       "0                John       Doe               120 jefferson st.    Riverside   \n",
       "1                Jack  McGinnis                    220 hobo Av.        Phila   \n",
       "2         John Da Man    Repici               120 Jefferson St.    Riverside   \n",
       "3             Stephen     Tyler  7452 Terrace At the Plaza road     SomeTown   \n",
       "4                None  Blankman                            None     SomeTown   \n",
       "5  Joan the bone Anne       Jet              9th at Terrace plc  Desert City   \n",
       "6                Jack  McGinnis                    220 hobo Av.        Phila   \n",
       "\n",
       "  state postalcode salary  \n",
       "0    NJ      08075  10000  \n",
       "1    PA      09119  18900  \n",
       "2    NJ      08075  32100  \n",
       "3    SD      91234  32908  \n",
       "4    SD      00298  44221  \n",
       "5    CO      00123  13900  \n",
       "6    PA      09119  18900  "
      ]
     },
     "execution_count": 30,
     "metadata": {},
     "output_type": "execute_result"
    }
   ],
   "source": [
    "df.toPandas()"
   ]
  },
  {
   "cell_type": "markdown",
   "metadata": {},
   "source": [
    "## Saving DataFrame"
   ]
  },
  {
   "cell_type": "code",
   "execution_count": 31,
   "metadata": {},
   "outputs": [],
   "source": [
    "df.write.save(\"sample_data/302-person-info.parquet\")"
   ]
  },
  {
   "cell_type": "code",
   "execution_count": 32,
   "metadata": {},
   "outputs": [],
   "source": [
    "df.write.save(\"sample_data/302-person-info.json\", format=\"json\")"
   ]
  },
  {
   "cell_type": "markdown",
   "metadata": {},
   "source": [
    "## Stopping Spark Session"
   ]
  },
  {
   "cell_type": "code",
   "execution_count": 33,
   "metadata": {},
   "outputs": [],
   "source": [
    "spark_session.stop()"
   ]
  }
 ],
 "metadata": {
  "kernelspec": {
   "display_name": "Python 3",
   "language": "python",
   "name": "python3"
  },
  "language_info": {
   "codemirror_mode": {
    "name": "ipython",
    "version": 3
   },
   "file_extension": ".py",
   "mimetype": "text/x-python",
   "name": "python",
   "nbconvert_exporter": "python",
   "pygments_lexer": "ipython3",
   "version": "3.7.4"
  }
 },
 "nbformat": 4,
 "nbformat_minor": 4
}
